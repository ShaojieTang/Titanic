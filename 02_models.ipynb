{
 "cells": [
  {
   "cell_type": "markdown",
   "id": "accessible-straight",
   "metadata": {},
   "source": [
    "Shaojie Tang"
   ]
  },
  {
   "cell_type": "code",
   "execution_count": 110,
   "id": "alpine-synthesis",
   "metadata": {},
   "outputs": [],
   "source": [
    "import numpy as np\n",
    "import pandas as pd\n",
    "import random as r\n",
    "from sklearn.model_selection import train_test_split"
   ]
  },
  {
   "cell_type": "code",
   "execution_count": 111,
   "id": "contemporary-afternoon",
   "metadata": {},
   "outputs": [],
   "source": [
    "df = pd.read_csv(\"titanic.csv\")"
   ]
  },
  {
   "cell_type": "code",
   "execution_count": 112,
   "id": "occasional-vehicle",
   "metadata": {},
   "outputs": [],
   "source": [
    "df_one = pd.get_dummies(df[\"Sex\"]) "
   ]
  },
  {
   "cell_type": "code",
   "execution_count": 113,
   "id": "outside-karaoke",
   "metadata": {},
   "outputs": [],
   "source": [
    "df = pd.concat((df_one, df), axis=1)"
   ]
  },
  {
   "cell_type": "code",
   "execution_count": 114,
   "id": "czech-cover",
   "metadata": {},
   "outputs": [],
   "source": [
    "df = df.drop([\"female\"], axis=1) "
   ]
  },
  {
   "cell_type": "code",
   "execution_count": 115,
   "id": "expressed-index",
   "metadata": {},
   "outputs": [],
   "source": [
    "df = df.rename(columns={\"male\": \"Gender\"}) "
   ]
  },
  {
   "cell_type": "markdown",
   "id": "thick-pillow",
   "metadata": {},
   "source": [
    "I make a new column called \"Gender\", 1 means male, 0 means female."
   ]
  },
  {
   "cell_type": "code",
   "execution_count": 116,
   "id": "dependent-creator",
   "metadata": {
    "scrolled": true
   },
   "outputs": [
    {
     "data": {
      "text/html": [
       "<div>\n",
       "<style scoped>\n",
       "    .dataframe tbody tr th:only-of-type {\n",
       "        vertical-align: middle;\n",
       "    }\n",
       "\n",
       "    .dataframe tbody tr th {\n",
       "        vertical-align: top;\n",
       "    }\n",
       "\n",
       "    .dataframe thead th {\n",
       "        text-align: right;\n",
       "    }\n",
       "</style>\n",
       "<table border=\"1\" class=\"dataframe\">\n",
       "  <thead>\n",
       "    <tr style=\"text-align: right;\">\n",
       "      <th></th>\n",
       "      <th>Gender</th>\n",
       "      <th>Survived</th>\n",
       "      <th>Pclass</th>\n",
       "      <th>Name</th>\n",
       "      <th>Sex</th>\n",
       "      <th>Age</th>\n",
       "      <th>Siblings/Spouses Aboard</th>\n",
       "      <th>Parents/Children Aboard</th>\n",
       "      <th>Fare</th>\n",
       "    </tr>\n",
       "  </thead>\n",
       "  <tbody>\n",
       "    <tr>\n",
       "      <th>0</th>\n",
       "      <td>1</td>\n",
       "      <td>0</td>\n",
       "      <td>3</td>\n",
       "      <td>Mr. Owen Harris Braund</td>\n",
       "      <td>male</td>\n",
       "      <td>22.0</td>\n",
       "      <td>1</td>\n",
       "      <td>0</td>\n",
       "      <td>7.2500</td>\n",
       "    </tr>\n",
       "    <tr>\n",
       "      <th>1</th>\n",
       "      <td>0</td>\n",
       "      <td>1</td>\n",
       "      <td>1</td>\n",
       "      <td>Mrs. John Bradley (Florence Briggs Thayer) Cum...</td>\n",
       "      <td>female</td>\n",
       "      <td>38.0</td>\n",
       "      <td>1</td>\n",
       "      <td>0</td>\n",
       "      <td>71.2833</td>\n",
       "    </tr>\n",
       "    <tr>\n",
       "      <th>2</th>\n",
       "      <td>0</td>\n",
       "      <td>1</td>\n",
       "      <td>3</td>\n",
       "      <td>Miss. Laina Heikkinen</td>\n",
       "      <td>female</td>\n",
       "      <td>26.0</td>\n",
       "      <td>0</td>\n",
       "      <td>0</td>\n",
       "      <td>7.9250</td>\n",
       "    </tr>\n",
       "    <tr>\n",
       "      <th>3</th>\n",
       "      <td>0</td>\n",
       "      <td>1</td>\n",
       "      <td>1</td>\n",
       "      <td>Mrs. Jacques Heath (Lily May Peel) Futrelle</td>\n",
       "      <td>female</td>\n",
       "      <td>35.0</td>\n",
       "      <td>1</td>\n",
       "      <td>0</td>\n",
       "      <td>53.1000</td>\n",
       "    </tr>\n",
       "    <tr>\n",
       "      <th>4</th>\n",
       "      <td>1</td>\n",
       "      <td>0</td>\n",
       "      <td>3</td>\n",
       "      <td>Mr. William Henry Allen</td>\n",
       "      <td>male</td>\n",
       "      <td>35.0</td>\n",
       "      <td>0</td>\n",
       "      <td>0</td>\n",
       "      <td>8.0500</td>\n",
       "    </tr>\n",
       "  </tbody>\n",
       "</table>\n",
       "</div>"
      ],
      "text/plain": [
       "   Gender  Survived  Pclass  \\\n",
       "0       1         0       3   \n",
       "1       0         1       1   \n",
       "2       0         1       3   \n",
       "3       0         1       1   \n",
       "4       1         0       3   \n",
       "\n",
       "                                                Name     Sex   Age  \\\n",
       "0                             Mr. Owen Harris Braund    male  22.0   \n",
       "1  Mrs. John Bradley (Florence Briggs Thayer) Cum...  female  38.0   \n",
       "2                              Miss. Laina Heikkinen  female  26.0   \n",
       "3        Mrs. Jacques Heath (Lily May Peel) Futrelle  female  35.0   \n",
       "4                            Mr. William Henry Allen    male  35.0   \n",
       "\n",
       "   Siblings/Spouses Aboard  Parents/Children Aboard     Fare  \n",
       "0                        1                        0   7.2500  \n",
       "1                        1                        0  71.2833  \n",
       "2                        0                        0   7.9250  \n",
       "3                        1                        0  53.1000  \n",
       "4                        0                        0   8.0500  "
      ]
     },
     "execution_count": 116,
     "metadata": {},
     "output_type": "execute_result"
    }
   ],
   "source": [
    "df.head()"
   ]
  },
  {
   "cell_type": "markdown",
   "id": "adolescent-scott",
   "metadata": {},
   "source": [
    "## continous variables"
   ]
  },
  {
   "cell_type": "code",
   "execution_count": 117,
   "id": "adolescent-recruitment",
   "metadata": {},
   "outputs": [],
   "source": [
    "X_train, X_test, y_train, y_test = train_test_split(df[['Age','Siblings/Spouses Aboard','Parents/Children Aboard','Fare']], df['Survived'], test_size=0.2, random_state=111)"
   ]
  },
  {
   "cell_type": "code",
   "execution_count": 118,
   "id": "british-malaysia",
   "metadata": {},
   "outputs": [],
   "source": [
    "from sklearn.linear_model import LogisticRegression\n",
    "import statsmodels.api as sm"
   ]
  },
  {
   "cell_type": "code",
   "execution_count": 119,
   "id": "delayed-tamil",
   "metadata": {},
   "outputs": [],
   "source": [
    "logit = sm.Logit(y_train, X_train)"
   ]
  },
  {
   "cell_type": "code",
   "execution_count": 120,
   "id": "typical-syntax",
   "metadata": {},
   "outputs": [
    {
     "name": "stdout",
     "output_type": "stream",
     "text": [
      "Optimization terminated successfully.\n",
      "         Current function value: 0.610484\n",
      "         Iterations 6\n"
     ]
    }
   ],
   "source": [
    "fitmodel = logit.fit()"
   ]
  },
  {
   "cell_type": "code",
   "execution_count": 121,
   "id": "abandoned-negative",
   "metadata": {},
   "outputs": [
    {
     "data": {
      "text/html": [
       "<table class=\"simpletable\">\n",
       "<caption>Logit Regression Results</caption>\n",
       "<tr>\n",
       "  <th>Dep. Variable:</th>       <td>Survived</td>     <th>  No. Observations:  </th>  <td>   709</td>  \n",
       "</tr>\n",
       "<tr>\n",
       "  <th>Model:</th>                 <td>Logit</td>      <th>  Df Residuals:      </th>  <td>   705</td>  \n",
       "</tr>\n",
       "<tr>\n",
       "  <th>Method:</th>                 <td>MLE</td>       <th>  Df Model:          </th>  <td>     3</td>  \n",
       "</tr>\n",
       "<tr>\n",
       "  <th>Date:</th>            <td>Sat, 13 Mar 2021</td> <th>  Pseudo R-squ.:     </th>  <td>0.08311</td> \n",
       "</tr>\n",
       "<tr>\n",
       "  <th>Time:</th>                <td>20:25:22</td>     <th>  Log-Likelihood:    </th> <td> -432.83</td> \n",
       "</tr>\n",
       "<tr>\n",
       "  <th>converged:</th>             <td>True</td>       <th>  LL-Null:           </th> <td> -472.06</td> \n",
       "</tr>\n",
       "<tr>\n",
       "  <th>Covariance Type:</th>     <td>nonrobust</td>    <th>  LLR p-value:       </th> <td>6.556e-17</td>\n",
       "</tr>\n",
       "</table>\n",
       "<table class=\"simpletable\">\n",
       "<tr>\n",
       "             <td></td>                <th>coef</th>     <th>std err</th>      <th>z</th>      <th>P>|z|</th>  <th>[0.025</th>    <th>0.975]</th>  \n",
       "</tr>\n",
       "<tr>\n",
       "  <th>Age</th>                     <td>   -0.0297</td> <td>    0.003</td> <td>   -8.575</td> <td> 0.000</td> <td>   -0.036</td> <td>   -0.023</td>\n",
       "</tr>\n",
       "<tr>\n",
       "  <th>Siblings/Spouses Aboard</th> <td>   -0.3641</td> <td>    0.091</td> <td>   -3.985</td> <td> 0.000</td> <td>   -0.543</td> <td>   -0.185</td>\n",
       "</tr>\n",
       "<tr>\n",
       "  <th>Parents/Children Aboard</th> <td>    0.0422</td> <td>    0.112</td> <td>    0.376</td> <td> 0.707</td> <td>   -0.178</td> <td>    0.262</td>\n",
       "</tr>\n",
       "<tr>\n",
       "  <th>Fare</th>                    <td>    0.0199</td> <td>    0.003</td> <td>    6.460</td> <td> 0.000</td> <td>    0.014</td> <td>    0.026</td>\n",
       "</tr>\n",
       "</table>"
      ],
      "text/plain": [
       "<class 'statsmodels.iolib.summary.Summary'>\n",
       "\"\"\"\n",
       "                           Logit Regression Results                           \n",
       "==============================================================================\n",
       "Dep. Variable:               Survived   No. Observations:                  709\n",
       "Model:                          Logit   Df Residuals:                      705\n",
       "Method:                           MLE   Df Model:                            3\n",
       "Date:                Sat, 13 Mar 2021   Pseudo R-squ.:                 0.08311\n",
       "Time:                        20:25:22   Log-Likelihood:                -432.83\n",
       "converged:                       True   LL-Null:                       -472.06\n",
       "Covariance Type:            nonrobust   LLR p-value:                 6.556e-17\n",
       "===========================================================================================\n",
       "                              coef    std err          z      P>|z|      [0.025      0.975]\n",
       "-------------------------------------------------------------------------------------------\n",
       "Age                        -0.0297      0.003     -8.575      0.000      -0.036      -0.023\n",
       "Siblings/Spouses Aboard    -0.3641      0.091     -3.985      0.000      -0.543      -0.185\n",
       "Parents/Children Aboard     0.0422      0.112      0.376      0.707      -0.178       0.262\n",
       "Fare                        0.0199      0.003      6.460      0.000       0.014       0.026\n",
       "===========================================================================================\n",
       "\"\"\""
      ]
     },
     "execution_count": 121,
     "metadata": {},
     "output_type": "execute_result"
    }
   ],
   "source": [
    "fitmodel.summary()"
   ]
  },
  {
   "cell_type": "markdown",
   "id": "correct-market",
   "metadata": {},
   "source": [
    "From the summary, we can see p-value of age, siblings/spouses abroad and fare are smaller than 0.05 which means there are sufficient evidences to show these factors are significant."
   ]
  },
  {
   "cell_type": "code",
   "execution_count": 122,
   "id": "boolean-johnston",
   "metadata": {},
   "outputs": [],
   "source": [
    "logreg = LogisticRegression()"
   ]
  },
  {
   "cell_type": "code",
   "execution_count": 123,
   "id": "moved-amendment",
   "metadata": {},
   "outputs": [],
   "source": [
    "model = logreg.fit(X_train, y_train)"
   ]
  },
  {
   "cell_type": "code",
   "execution_count": 124,
   "id": "tired-place",
   "metadata": {},
   "outputs": [],
   "source": [
    "y_pred = model.predict(X_test)"
   ]
  },
  {
   "cell_type": "code",
   "execution_count": 125,
   "id": "interesting-listening",
   "metadata": {},
   "outputs": [],
   "source": [
    "from sklearn.metrics import accuracy_score"
   ]
  },
  {
   "cell_type": "code",
   "execution_count": 126,
   "id": "continuing-syndication",
   "metadata": {},
   "outputs": [
    {
     "data": {
      "text/plain": [
       "0.6685393258426966"
      ]
     },
     "execution_count": 126,
     "metadata": {},
     "output_type": "execute_result"
    }
   ],
   "source": [
    "accuracy_score(y_test, y_pred)"
   ]
  },
  {
   "cell_type": "markdown",
   "id": "derived-architect",
   "metadata": {},
   "source": [
    "The accuracy score of regression model is not very high."
   ]
  },
  {
   "cell_type": "markdown",
   "id": "universal-ordinance",
   "metadata": {},
   "source": [
    "## categorical variable"
   ]
  },
  {
   "cell_type": "code",
   "execution_count": 127,
   "id": "regulated-ideal",
   "metadata": {},
   "outputs": [],
   "source": [
    "X_train, X_test, y_train, y_test = train_test_split(df[['Gender','Pclass']], df['Survived'], test_size=0.2, random_state=111)"
   ]
  },
  {
   "cell_type": "code",
   "execution_count": 128,
   "id": "welcome-rebound",
   "metadata": {},
   "outputs": [],
   "source": [
    "logreg = LogisticRegression()"
   ]
  },
  {
   "cell_type": "code",
   "execution_count": 129,
   "id": "according-breeding",
   "metadata": {},
   "outputs": [],
   "source": [
    "model = logreg.fit(X_train, y_train)"
   ]
  },
  {
   "cell_type": "code",
   "execution_count": 130,
   "id": "neither-tuition",
   "metadata": {},
   "outputs": [],
   "source": [
    "y_pred = model.predict(X_test)"
   ]
  },
  {
   "cell_type": "code",
   "execution_count": 131,
   "id": "immune-compound",
   "metadata": {},
   "outputs": [
    {
     "data": {
      "text/plain": [
       "0.7808988764044944"
      ]
     },
     "execution_count": 131,
     "metadata": {},
     "output_type": "execute_result"
    }
   ],
   "source": [
    "accuracy_score(y_test, y_pred)"
   ]
  },
  {
   "cell_type": "markdown",
   "id": "incoming-clause",
   "metadata": {},
   "source": [
    "By using only categorical variables in the logistic regression, the accuracy score is nearly 80 percent. The score is higher than score which only uses continous variables. "
   ]
  },
  {
   "cell_type": "markdown",
   "id": "designed-panic",
   "metadata": {},
   "source": [
    "## combine variables together"
   ]
  },
  {
   "cell_type": "code",
   "execution_count": 132,
   "id": "forward-exclusive",
   "metadata": {},
   "outputs": [],
   "source": [
    "X_train, X_test, y_train, y_test = train_test_split(df[['Gender','Pclass','Age','Siblings/Spouses Aboard','Parents/Children Aboard','Fare']],\n",
    "                                                    df['Survived'],\n",
    "                                                    test_size=0.2,\n",
    "                                                    random_state=111)"
   ]
  },
  {
   "cell_type": "code",
   "execution_count": 133,
   "id": "flush-experiment",
   "metadata": {},
   "outputs": [],
   "source": [
    "logit = sm.Logit(y_train, X_train)"
   ]
  },
  {
   "cell_type": "code",
   "execution_count": 134,
   "id": "identified-compatibility",
   "metadata": {},
   "outputs": [
    {
     "name": "stdout",
     "output_type": "stream",
     "text": [
      "Optimization terminated successfully.\n",
      "         Current function value: 0.495309\n",
      "         Iterations 6\n"
     ]
    }
   ],
   "source": [
    "fitmodel = logit.fit()"
   ]
  },
  {
   "cell_type": "code",
   "execution_count": 135,
   "id": "ordered-colon",
   "metadata": {},
   "outputs": [
    {
     "data": {
      "text/html": [
       "<table class=\"simpletable\">\n",
       "<caption>Logit Regression Results</caption>\n",
       "<tr>\n",
       "  <th>Dep. Variable:</th>       <td>Survived</td>     <th>  No. Observations:  </th>  <td>   709</td>  \n",
       "</tr>\n",
       "<tr>\n",
       "  <th>Model:</th>                 <td>Logit</td>      <th>  Df Residuals:      </th>  <td>   703</td>  \n",
       "</tr>\n",
       "<tr>\n",
       "  <th>Method:</th>                 <td>MLE</td>       <th>  Df Model:          </th>  <td>     5</td>  \n",
       "</tr>\n",
       "<tr>\n",
       "  <th>Date:</th>            <td>Sat, 13 Mar 2021</td> <th>  Pseudo R-squ.:     </th>  <td>0.2561</td>  \n",
       "</tr>\n",
       "<tr>\n",
       "  <th>Time:</th>                <td>20:25:23</td>     <th>  Log-Likelihood:    </th> <td> -351.17</td> \n",
       "</tr>\n",
       "<tr>\n",
       "  <th>converged:</th>             <td>True</td>       <th>  LL-Null:           </th> <td> -472.06</td> \n",
       "</tr>\n",
       "<tr>\n",
       "  <th>Covariance Type:</th>     <td>nonrobust</td>    <th>  LLR p-value:       </th> <td>3.187e-50</td>\n",
       "</tr>\n",
       "</table>\n",
       "<table class=\"simpletable\">\n",
       "<tr>\n",
       "             <td></td>                <th>coef</th>     <th>std err</th>      <th>z</th>      <th>P>|z|</th>  <th>[0.025</th>    <th>0.975]</th>  \n",
       "</tr>\n",
       "<tr>\n",
       "  <th>Gender</th>                  <td>   -2.2121</td> <td>    0.198</td> <td>  -11.197</td> <td> 0.000</td> <td>   -2.599</td> <td>   -1.825</td>\n",
       "</tr>\n",
       "<tr>\n",
       "  <th>Pclass</th>                  <td>    0.0761</td> <td>    0.076</td> <td>    1.000</td> <td> 0.318</td> <td>   -0.073</td> <td>    0.225</td>\n",
       "</tr>\n",
       "<tr>\n",
       "  <th>Age</th>                     <td>    0.0051</td> <td>    0.006</td> <td>    0.872</td> <td> 0.383</td> <td>   -0.006</td> <td>    0.017</td>\n",
       "</tr>\n",
       "<tr>\n",
       "  <th>Siblings/Spouses Aboard</th> <td>   -0.2398</td> <td>    0.110</td> <td>   -2.188</td> <td> 0.029</td> <td>   -0.455</td> <td>   -0.025</td>\n",
       "</tr>\n",
       "<tr>\n",
       "  <th>Parents/Children Aboard</th> <td>   -0.1118</td> <td>    0.126</td> <td>   -0.884</td> <td> 0.377</td> <td>   -0.360</td> <td>    0.136</td>\n",
       "</tr>\n",
       "<tr>\n",
       "  <th>Fare</th>                    <td>    0.0191</td> <td>    0.003</td> <td>    5.477</td> <td> 0.000</td> <td>    0.012</td> <td>    0.026</td>\n",
       "</tr>\n",
       "</table>"
      ],
      "text/plain": [
       "<class 'statsmodels.iolib.summary.Summary'>\n",
       "\"\"\"\n",
       "                           Logit Regression Results                           \n",
       "==============================================================================\n",
       "Dep. Variable:               Survived   No. Observations:                  709\n",
       "Model:                          Logit   Df Residuals:                      703\n",
       "Method:                           MLE   Df Model:                            5\n",
       "Date:                Sat, 13 Mar 2021   Pseudo R-squ.:                  0.2561\n",
       "Time:                        20:25:23   Log-Likelihood:                -351.17\n",
       "converged:                       True   LL-Null:                       -472.06\n",
       "Covariance Type:            nonrobust   LLR p-value:                 3.187e-50\n",
       "===========================================================================================\n",
       "                              coef    std err          z      P>|z|      [0.025      0.975]\n",
       "-------------------------------------------------------------------------------------------\n",
       "Gender                     -2.2121      0.198    -11.197      0.000      -2.599      -1.825\n",
       "Pclass                      0.0761      0.076      1.000      0.318      -0.073       0.225\n",
       "Age                         0.0051      0.006      0.872      0.383      -0.006       0.017\n",
       "Siblings/Spouses Aboard    -0.2398      0.110     -2.188      0.029      -0.455      -0.025\n",
       "Parents/Children Aboard    -0.1118      0.126     -0.884      0.377      -0.360       0.136\n",
       "Fare                        0.0191      0.003      5.477      0.000       0.012       0.026\n",
       "===========================================================================================\n",
       "\"\"\""
      ]
     },
     "execution_count": 135,
     "metadata": {},
     "output_type": "execute_result"
    }
   ],
   "source": [
    "fitmodel.summary()"
   ]
  },
  {
   "cell_type": "markdown",
   "id": "earned-separate",
   "metadata": {},
   "source": [
    "For the whole model, we can see p-value of gender, siblings/spouses aboard and fare are smaller than 0.05 which means they are significant factors."
   ]
  },
  {
   "cell_type": "code",
   "execution_count": 136,
   "id": "finished-tours",
   "metadata": {},
   "outputs": [],
   "source": [
    "logreg = LogisticRegression()"
   ]
  },
  {
   "cell_type": "code",
   "execution_count": 137,
   "id": "drawn-conversation",
   "metadata": {},
   "outputs": [],
   "source": [
    "model = logreg.fit(X_train, y_train)"
   ]
  },
  {
   "cell_type": "code",
   "execution_count": 138,
   "id": "systematic-brazilian",
   "metadata": {},
   "outputs": [],
   "source": [
    "y_pred = model.predict(X_test)"
   ]
  },
  {
   "cell_type": "code",
   "execution_count": 139,
   "id": "radical-capitol",
   "metadata": {},
   "outputs": [
    {
     "data": {
      "text/plain": [
       "0.7696629213483146"
      ]
     },
     "execution_count": 139,
     "metadata": {},
     "output_type": "execute_result"
    }
   ],
   "source": [
    "accuracy_score(y_test, y_pred)"
   ]
  },
  {
   "cell_type": "markdown",
   "id": "secure-selection",
   "metadata": {},
   "source": [
    "For the whole model, the accuracy score is close to the model which only contains categorical variables."
   ]
  },
  {
   "cell_type": "code",
   "execution_count": null,
   "id": "valued-uncertainty",
   "metadata": {},
   "outputs": [],
   "source": []
  }
 ],
 "metadata": {
  "kernelspec": {
   "display_name": "Python 3",
   "language": "python",
   "name": "python3"
  },
  "language_info": {
   "codemirror_mode": {
    "name": "ipython",
    "version": 3
   },
   "file_extension": ".py",
   "mimetype": "text/x-python",
   "name": "python",
   "nbconvert_exporter": "python",
   "pygments_lexer": "ipython3",
   "version": "3.8.2"
  }
 },
 "nbformat": 4,
 "nbformat_minor": 5
}
